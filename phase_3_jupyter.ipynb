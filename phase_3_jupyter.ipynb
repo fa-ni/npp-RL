{
 "cells": [
  {
   "cell_type": "code",
   "execution_count": null,
   "metadata": {
    "tags": []
   },
   "outputs": [],
   "source": [
    "import pandas as pd\n",
    "from scipy.stats import iqr\n",
    "from src.main.rl.evaluation.phase3_evaluation import create_evaluation_df_phase3\n",
    "\n",
    "paths=[\n",
    "\"src/main/rl/models/scenario1/training_04_06/scenario1_ActionSpaceOption3Wrapper_ObservationOption4Wrapper_None_RewardOption2Wrapper_TD3_training_04_06\",\n",
    "\"src/main/rl/models/scenario1/training_04_06/scenario1_ActionSpaceOption3Wrapper_ObservationOption5Wrapper_NPPAutomationWrapper_RewardOption2Wrapper_SAC_training_04_06\",\n",
    "\n",
    "\"src/main/rl/models/scenario2/training_04_06/scenario2_ActionSpaceOption3Wrapper_ObservationOption5Wrapper_None_RewardOption2Wrapper_PPO_training_04_06\",\n",
    "\"src/main/rl/models/scenario2/training_04_06/scenario2_ActionSpaceOption3Wrapper_ObservationOption4Wrapper_NPPAutomationWrapper_RewardOption2Wrapper_PPO_training_04_06\",\n",
    "    \n",
    "\"src/main/rl/models/scenario3/training_04_06/scenario3_ActionSpaceOption3Wrapper_ObservationOption5Wrapper_None_RewardOption2Wrapper_PPO_training_04_06\",            \n",
    "\"src/main/rl/models/scenario3/training_04_06/scenario3_ActionSpaceOption3Wrapper_ObservationOption5Wrapper_NPPAutomationWrapper_RewardOption2Wrapper_A2C_training_04_06\",\n",
    "]\n",
    "path_to_save=\"src/main/rl/evaluation/output/phase3_evaluation_results_new3.csv\"\n",
    "pd.options.display.max_colwidth = 500\n",
    "df = pd.DataFrame()\n",
    "try:\n",
    "    df = pd.read_csv(path_to_save)\n",
    "except:\n",
    "    pass\n",
    "\n",
    "if df.empty:\n",
    "    df = create_evaluation_df_phase3(path_to_save,paths)\n",
    "df"
   ]
  },
  {
   "cell_type": "code",
   "execution_count": null,
   "metadata": {},
   "outputs": [],
   "source": [
    "# Statistics over the whole dataframe\n",
    "df_total1=df.drop(columns=[\"full_path\",\"combination\", \"scenario\", \"alg\", \"action_wrapper\", \"obs_wrapper\", \"automation_wrapper\"]).agg([\"mean\",\"max\",\"min\", \"std\"])\n",
    "df_total2=df.drop(columns=[\"full_path\",\"combination\", \"scenario\", \"alg\", \"action_wrapper\", \"obs_wrapper\", \"automation_wrapper\"]).groupby(lambda x: True,dropna=True).agg([iqr])\n",
    "df_total2.columns=df_total2.columns.get_level_values(0)\n",
    "df_total2[\"index\"]=\"iqr\"\n",
    "df_total=df_total1.reset_index().merge(df_total2, how=\"outer\").set_index(\"index\")"
   ]
  },
  {
   "cell_type": "code",
   "execution_count": null,
   "metadata": {},
   "outputs": [],
   "source": [
    "df_total"
   ]
  },
  {
   "cell_type": "code",
   "execution_count": null,
   "metadata": {},
   "outputs": [],
   "source": [
    "# EXP1: Criticality Score across all 60 models\n",
    "print(df_total[[\"criticality_score\"]].to_latex())"
   ]
  },
  {
   "cell_type": "code",
   "execution_count": null,
   "metadata": {},
   "outputs": [],
   "source": [
    "# Statistics per combination\n",
    "df_statistics_per_combination = (\n",
    "    df.drop(columns=[\"full_path\"]).groupby(\n",
    "        [\"combination\", \"scenario\", \"alg\", \"action_wrapper\", \"obs_wrapper\", \"automation_wrapper\"], dropna=False)\n",
    "        .agg([\"mean\",\"max\",\"min\", \"std\", iqr])\n",
    ")\n",
    "# Necessary to set index as alphabetical is confusing for the thesis \n",
    "df_statistics_per_combination[\"index\"]=([0,1,3,2,5,4])\n",
    "df_statistics_per_combination=df_statistics_per_combination.reset_index().set_index([\"index\",\"combination\"]).sort_index()\n",
    "df_statistics_per_combination.columns = [\"_\".join(a) for a in df_statistics_per_combination.columns.to_flat_index()]\n",
    "save_df_per_combination=df_statistics_per_combination.copy()\n",
    "df_statistics_per_combination"
   ]
  },
  {
   "cell_type": "code",
   "execution_count": null,
   "metadata": {},
   "outputs": [],
   "source": [
    "# EXP1: Criticality Score per combination\n",
    "print(df_statistics_per_combination[[\"criticality_score_mean\"]].round(2))\n",
    "print(df_statistics_per_combination[[\"criticality_score_mean\",\"criticality_score_max\",\"criticality_score_min\",\"criticality_score_std\",\"criticality_score_iqr\"]].droplevel(1).transpose().round(2).to_latex())\n"
   ]
  },
  {
   "cell_type": "code",
   "execution_count": null,
   "metadata": {},
   "outputs": [],
   "source": [
    "import pandas as pd\n",
    "from src.main.rl.utils.parser import parse_wrapper\n",
    "from src.main.rl.utils.combined_parser import parse_information_from_path\n",
    "from src.main.rl.evaluation.eval import evaluate\n",
    "\n",
    "paths_best_models = [\n",
    "    \"src/main/rl/models/scenario1/training_04_06/scenario1_ActionSpaceOption3Wrapper_ObservationOption4Wrapper_None_RewardOption2Wrapper_TD3_training_04_06\",\n",
    "    \"src/main/rl/models/scenario1/training_04_06/scenario1_ActionSpaceOption3Wrapper_ObservationOption5Wrapper_NPPAutomationWrapper_RewardOption2Wrapper_SAC_training_04_06\",\n",
    "    \n",
    "    \"src/main/rl/models/scenario2/training_04_06/scenario2_ActionSpaceOption3Wrapper_ObservationOption5Wrapper_None_RewardOption2Wrapper_PPO_training_04_06\",\n",
    "    \"src/main/rl/models/scenario2/training_04_06/scenario2_ActionSpaceOption3Wrapper_ObservationOption4Wrapper_NPPAutomationWrapper_RewardOption2Wrapper_PPO_training_04_06\",\n",
    "    \n",
    "    \"src/main/rl/models/scenario3/training_04_06/scenario3_ActionSpaceOption3Wrapper_ObservationOption5Wrapper_None_RewardOption2Wrapper_PPO_training_04_06\",\n",
    "    \"src/main/rl/models/scenario3/training_04_06/scenario3_ActionSpaceOption3Wrapper_ObservationOption5Wrapper_NPPAutomationWrapper_RewardOption2Wrapper_A2C_training_04_06\",\n",
    "]\n",
    "# Choose one Combiniation:\n",
    "\n",
    "def prepare_one_combiniation_actions_and_obs_for_analysis(path_to_model:str,episode_length:int=250,number_of_models:int=10):\n",
    "    # This function transforms the actions and observations for all ten models per combination so that we can easily aggregated per timestep and create\n",
    "    # the corresponding statistics per timestamp and not only over the whole evaluation.\n",
    "    # It returns a list of 5 dataframes. Each for one dimension of the action space. In the dataframe we have 250 rows (one per timestamp)\n",
    "    # and 10 columns with the different models/runs. so if we aggregate of the columns we get the statistics for a action dimession over the 250 episodes (rows).\n",
    "    # Same with different number of df for obs.\n",
    "    # Also returns just a list were all actions taken and obs taken are appended.\n",
    "    result_list_actions=[pd.DataFrame() for i in range(5)]\n",
    "    result_list_obs=[pd.DataFrame() for i in range(6)]\n",
    "    \n",
    "    list_of_all_actions_taken=[]\n",
    "    list_of_all_obs_taken=[]\n",
    "    \n",
    "    for number in range(1,number_of_models+1): # change to range(1,10) to not have model 10 in this. Which seems to be an otuliers model for combination 1.\n",
    "        result_dict = {}\n",
    "        full_path = path_to_model + f\"_{number}\"\n",
    "        path_to_overhand = full_path + \"/best_model.zip\"\n",
    "            \n",
    "        action_wrapper, automation_wrapper, obs_wrapper, reward_wrapper = parse_wrapper(full_path)\n",
    "        scenario, alg, wrapper_maker = parse_information_from_path(full_path)\n",
    "        # Switch episode length here\n",
    "        cum_reward, criticality_score, total_timesteps, actions_taken, obs_taken,info = evaluate(scenario, path_to_overhand, alg, wrapper_maker, episode_length=episode_length)\n",
    "        # actions taken is a list of lists. The first list contains 250 further list (one per timestep). The inner list contaijs 5 values (one per dimension in the action space)\n",
    "        list_of_all_actions_taken.append(actions_taken)\n",
    "        list_of_all_obs_taken.append(obs_taken)\n",
    "        intermediate_df_actions=pd.DataFrame(actions_taken)\n",
    "        intermediate_df_obs=pd.DataFrame(obs_taken)\n",
    "        result_list_actions[0]=result_list_actions[0].join(intermediate_df_actions[0].rename(f\"action_0_run_{number}\").to_frame(), how=\"outer\")\n",
    "        result_list_actions[1]=result_list_actions[1].join(intermediate_df_actions[1].rename(f\"action_1_run_{number}\").to_frame(), how=\"outer\")\n",
    "        result_list_actions[2]=result_list_actions[2].join(intermediate_df_actions[2].rename(f\"action_2_run_{number}\").to_frame(), how=\"outer\")\n",
    "        result_list_actions[3]=result_list_actions[3].join(intermediate_df_actions[3].rename(f\"action_3_run_{number}\").to_frame(), how=\"outer\")\n",
    "        result_list_actions[4]=result_list_actions[4].join(intermediate_df_actions[4].rename(f\"action_4_run_{number}\").to_frame(), how=\"outer\")\n",
    "        \n",
    "        result_list_obs[0]=result_list_obs[0].join(intermediate_df_obs[0].rename(f\"action_0_run_{number}\").to_frame(), how=\"outer\")\n",
    "        result_list_obs[1]=result_list_obs[1].join(intermediate_df_obs[1].rename(f\"action_1_run_{number}\").to_frame(), how=\"outer\")\n",
    "        result_list_obs[2]=result_list_obs[2].join(intermediate_df_obs[2].rename(f\"action_2_run_{number}\").to_frame(), how=\"outer\")\n",
    "        result_list_obs[3]=result_list_obs[3].join(intermediate_df_obs[3].rename(f\"action_3_run_{number}\").to_frame(), how=\"outer\")\n",
    "        result_list_obs[4]=result_list_obs[4].join(intermediate_df_obs[4].rename(f\"action_4_run_{number}\").to_frame(), how=\"outer\")\n",
    "        result_list_obs[5]=result_list_obs[5].join(intermediate_df_obs[5].rename(f\"action_5_run_{number}\").to_frame(), how=\"outer\")\n",
    "    return result_list_actions, result_list_obs,list_of_all_actions_taken,list_of_all_obs_taken\n",
    "\n",
    "path=paths_best_models[0]\n",
    "actions_prepared, obs_prepared,list_of_all_actions_taken,list_of_all_obs_taken=prepare_one_combiniation_actions_and_obs_for_analysis(path)\n"
   ]
  },
  {
   "cell_type": "code",
   "execution_count": null,
   "metadata": {},
   "outputs": [],
   "source": [
    "# Actions Analysis Combi 1\n",
    "import matplotlib.pyplot as plt\n",
    "import matplotlib.ticker as plticker\n",
    "scaling_factors_scenario_1 = [100, 2000, 1, 1, 2000]\n",
    "color_mapping = {\n",
    "    \"standard\": \"#1D2D5F\",\n",
    "    \"red\":\"#F65E5D\",\n",
    "    \"orange\": \"#FF8800\",\n",
    "}\n",
    "for idx,item in enumerate(actions_prepared):\n",
    "    item=item.applymap(lambda x: int(round((x + 1) * (scaling_factors_scenario_1[idx] / 2))))\n",
    "    actions_prepared[idx]=item.agg([\"mean\",\"min\",\"max\",\"std\"],axis=1)\n",
    "    actions_prepared[idx][\"minus\"]=actions_prepared[idx][\"mean\"]-actions_prepared[idx][\"std\"]\n",
    "    actions_prepared[idx][\"plus\"]=actions_prepared[idx][\"mean\"]+actions_prepared[idx][\"std\"]"
   ]
  },
  {
   "cell_type": "code",
   "execution_count": null,
   "metadata": {},
   "outputs": [],
   "source": [
    "# Actions Analysis Combi 1\n",
    "from src.main.rl.utils.constants import (\n",
    "    scaling_factors_scenario_1,\n",
    "    action_dimensions_german)\n",
    "fig, ax = plt.subplots(1, 5,constrained_layout=True)\n",
    "fig.set_figheight(3) \n",
    "fig.set_figwidth(20) \n",
    "[ax[idx].plot(item[\"mean\"],color=color_mapping[\"standard\"]) for idx, item in enumerate(actions_prepared)]\n",
    "#[ax[idx].fill_between([i for i in range(250)],item[\"plus\"],item[\"minus\"],color=color_mapping[\"standard\"],alpha=0.3) for idx, item in enumerate(result_list)]\n",
    "[ax[idx].fill_between([i for i in range(250)],item[\"min\"],item[\"max\"],color=color_mapping[\"standard\"],alpha=0.3) for idx, item in enumerate(actions_prepared)]\n",
    "[ax[idx].set_xlabel(\"Zeitschritte\") for idx in range(5)]\n",
    "[ax[idx].set_ylabel(\"Value\") for idx in range(5)]\n",
    "[ax[idx].set_title(action_dimensions_german[idx]) for idx in range(5)]\n",
    "\n",
    "#fig.savefig(\n",
    "#    f\"src/main/rl/evaluation/plot_results/phase3_actions_plot_with_min_max_scen1_w.png\",\n",
    "#    format=\"png\",\n",
    "#    dpi=300,\n",
    "#)\n",
    "plt.show()"
   ]
  },
  {
   "cell_type": "code",
   "execution_count": null,
   "metadata": {},
   "outputs": [],
   "source": [
    "# Action: Modell 10  Combi 1\n",
    "from src.main.rl.evaluation.eval import plot_actions_taken\n",
    "scenario=\"scenario1\"\n",
    "y_axis_scale=[[0, 100], [0, 2200], [0, 1.2], [0, 1.2], [0, 2200]]\n",
    "fig=plot_actions_taken(list_of_all_actions_taken[9], scenario,y_axis_scale)\n",
    "#fig.savefig(\n",
    "#    f\"src/main/rl/evaluation/plot_results/phase3_actions_plots_scen1_wo_smoothest.png\",\n",
    "#    format=\"png\",\n",
    "#    dpi=300,\n",
    "#)"
   ]
  },
  {
   "cell_type": "code",
   "execution_count": null,
   "metadata": {},
   "outputs": [],
   "source": [
    "# Create Actions Mean without model 10\n",
    "path=paths_best_models[0]\n",
    "actions_prepared_wo_10, obs_prepared_wo_10,list_of_all_actions_taken_wo_10,list_of_all_obs_take_wo_10n=prepare_one_combiniation_actions_and_obs_for_analysis(path,number_of_models=9)\n",
    "for idx,item in enumerate(actions_prepared_wo_10):\n",
    "    item=item.applymap(lambda x: int(round((x + 1) * (scaling_factors_scenario_1[idx] / 2))))\n",
    "    actions_prepared_wo_10[idx]=item.agg([\"mean\",\"min\",\"max\",\"std\"],axis=1)\n",
    "    actions_prepared_wo_10[idx][\"minus\"]=actions_prepared_wo_10[idx][\"mean\"]-actions_prepared_wo_10[idx][\"std\"]\n",
    "    actions_prepared_wo_10[idx][\"plus\"]=actions_prepared_wo_10[idx][\"mean\"]+actions_prepared_wo_10[idx][\"std\"]\n",
    "fig, ax = plt.subplots(1, 5,constrained_layout=True)\n",
    "fig.set_figheight(3) \n",
    "fig.set_figwidth(20) \n",
    "[ax[idx].plot(item[\"mean\"],color=color_mapping[\"standard\"]) for idx, item in enumerate(actions_prepared_wo_10)]\n",
    "[ax[idx].fill_between([i for i in range(250)],item[\"min\"],item[\"max\"],color=color_mapping[\"standard\"],alpha=0.3) for idx, item in enumerate(actions_prepared_wo_10)]\n",
    "[ax[idx].set_xlabel(\"Zeitschritte\") for idx in range(5)]\n",
    "[ax[idx].set_ylabel(\"Value\") for idx in range(5)]\n",
    "[ax[idx].set_title(action_dimensions_german[idx]) for idx in range(5)]"
   ]
  },
  {
   "cell_type": "code",
   "execution_count": null,
   "metadata": {},
   "outputs": [],
   "source": [
    "# Action: Modell 2  Combi 1\n",
    "from src.main.rl.evaluation.eval import plot_actions_taken\n",
    "scenario=\"scenario1\"\n",
    "y_axis_scale=[[0, 100], [0, 2200], [0, 1.2], [0, 1.2], [0, 2200]]\n",
    "fig=plot_actions_taken(list_of_all_actions_taken[2], scenario,y_axis_scale)\n",
    "#fig.savefig(\n",
    "#    f\"src/main/rl/evaluation/plot_results/phase3_actions_plots_scen1_wo_smoothest.png\",\n",
    "#    format=\"png\",\n",
    "#    dpi=300,\n",
    "#)"
   ]
  },
  {
   "cell_type": "code",
   "execution_count": null,
   "metadata": {},
   "outputs": [],
   "source": [
    "# Actions print all combinations from scen 1\n",
    "from src.main.rl.evaluation.eval import plot_actions_taken\n",
    "y_axis_scale=[[0, 100], [0, 2200], [0, 1.2], [0, 1.2], [0, 2200]]\n",
    "for idx,actions_taken in enumerate(list_of_all_actions_taken):\n",
    "    print(f\"combination {idx}\")\n",
    "    plot_actions_taken(actions_taken, scenario,y_axis_scale)\n"
   ]
  },
  {
   "cell_type": "code",
   "execution_count": null,
   "metadata": {},
   "outputs": [],
   "source": [
    "#Observation prep \n",
    "import matplotlib.pyplot as plt\n",
    "import matplotlib.ticker as plticker\n",
    "from src.main.rl.utils.constants import (\n",
    "    scaling_factors_scenario_1,\n",
    "    scaling_factors_scenario2,\n",
    "    action_dimensions_german,\n",
    "    obs_dimensions_german,\n",
    "    obs_scaling_factors,\n",
    "    obs_dimensions,\n",
    "    scaling_factors_scenario3,\n",
    ")\n",
    "obs_space_size = 6\n",
    "\n",
    "current_obs_scaling_factors = obs_scaling_factors[obs_space_size]\n",
    "\n",
    "agg_result_list_obs=[pd.DataFrame() for _ in range(6)]\n",
    "for idx,item in enumerate(obs_prepared):\n",
    "    item=item.fillna(0)\n",
    "    item=item.applymap(lambda x: int(round((x + 1) * (current_obs_scaling_factors[idx] / 2))))\n",
    "    agg_result_list_obs[idx]=item.agg([\"mean\",\"min\",\"max\",\"std\"],axis=1)\n",
    "    agg_result_list_obs[idx][\"minus\"]=agg_result_list_obs[idx][\"mean\"]-agg_result_list_obs[idx][\"std\"]\n",
    "    agg_result_list_obs[idx][\"plus\"]=agg_result_list_obs[idx][\"mean\"]+agg_result_list_obs[idx][\"std\"]\n"
   ]
  },
  {
   "cell_type": "code",
   "execution_count": null,
   "metadata": {},
   "outputs": [],
   "source": [
    "\n",
    "import matplotlib.pyplot as plt\n",
    "import matplotlib.ticker as plticker\n",
    "obs_space_size = 6\n",
    "current_obs_scaling_factors = obs_scaling_factors[obs_space_size]\n",
    "color_mapping = {\n",
    "    \"standard\": \"#1D2D5F\",\n",
    "    \"red\":\"#F65E5D\",\n",
    "    \"orange\": \"#FF8800\",\n",
    "}\n",
    "\n",
    "#Plot\n",
    "y_axis_scale=[[0,1000],[0,4000],[0,550],[0,8000],[0,180],[0,32]]\n",
    "red_critical_line_1=[-10,2800,450,5100,110,4]\n",
    "red_critical_line_2=[-10,1200,-10,800,-10,-10]\n",
    "orange_critical_line_1=[-10,2500,350,4400,80,9]\n",
    "orange_critical_line_2=[-10,1500,-10,1500,-10,-10]\n",
    "dead_line_1=[-10,2900, 500,5300,140,0]\n",
    "dead_line_2=[-10,1000,-10,300,-10,-10]\n",
    "\n",
    "fig, ax = plt.subplots(1, int(obs_space_size),constrained_layout=True)\n",
    "fig.set_figheight(3) \n",
    "fig.set_figwidth(20) \n",
    "[ax[idx].plot(item[\"mean\"],color=color_mapping[\"standard\"]) for idx, item in enumerate(agg_result_list_obs)]\n",
    "[ax[idx].fill_between([i for i in range(250)],item[\"min\"],item[\"max\"],color=color_mapping[\"standard\"],alpha=0.3) for idx, item in enumerate(agg_result_list_obs)]\n",
    "[ax[idx].set_xlabel(\"Zeitschritte\") for idx in range(obs_space_size)]\n",
    "[ax[idx].set_ylabel(\"Value\") for idx in range(obs_space_size)]\n",
    "[ax[idx].set_title(obs_dimensions_german[obs_space_size][idx]) for idx in range(obs_space_size)]\n",
    "[ax[idx].axhline(red_critical_line_1[idx],color=color_mapping[\"red\"],ls='--') for idx in range(obs_space_size)]\n",
    "[ax[idx].axhline(red_critical_line_2[idx],color=color_mapping[\"red\"],ls='--') for idx in range(obs_space_size)]\n",
    "[ax[idx].axhline(orange_critical_line_1[idx],color=color_mapping[\"orange\"],ls='--') for idx in range(obs_space_size)]\n",
    "[ax[idx].axhline(orange_critical_line_2[idx],color=color_mapping[\"orange\"],ls='--') for idx in range(obs_space_size)]\n",
    "[ax[idx].axhline(dead_line_1[idx],color=\"black\",ls='--') for idx in range(obs_space_size)]\n",
    "[ax[idx].axhline(dead_line_2[idx],color=\"black\",ls='--') for idx in range(obs_space_size)]\n",
    "[ax[idx].set_ylim(y_axis_scale[idx]) for idx in range(obs_space_size)]\n",
    "\n",
    "#fig.savefig(\n",
    "#    f\"src/main/rl/evaluation/plot_results/phase3_obs_plot_with_min_max_scen1_wo_all_models.png\",\n",
    "#    format=\"png\",\n",
    "#    dpi=300,\n",
    "#)\n",
    "#plt.show()"
   ]
  },
  {
   "cell_type": "code",
   "execution_count": null,
   "metadata": {},
   "outputs": [],
   "source": [
    "# Obs: Print specific models\n",
    "from src.main.rl.evaluation.eval import plot_observations\n",
    "y_axis_scale=[[0, 1000], [0, 4000], [0, 550], [0, 8000], [0, 180],[0, 32]]\n",
    "fig=plot_observations(list_of_all_obs_taken[6],y_axis_scale)\n",
    "#fig.savefig(\n",
    "#    f\"src/main/rl/evaluation/plot_results/phase3_actions_plots_scen1_wo_smoothest.png\",\n",
    "#    format=\"png\",\n",
    "#    dpi=300,\n",
    "#)\n",
    "from src.main.rl.evaluation.eval import plot_observations\n",
    "y_axis_scale=[[0, 1000], [0, 4000], [0, 550], [0, 8000], [0, 180],[0, 32]]\n",
    "fig=plot_observations(list_of_all_obs_taken[2],y_axis_scale)\n",
    "#fig.savefig(\n",
    "#    f\"src/main/rl/evaluation/plot_results/phase3_obs_scen1_wo_combi8_increasing_wl_1000_ep_failure.png\",\n",
    "#    format=\"png\",\n",
    "#    dpi=300,\n",
    "#)"
   ]
  },
  {
   "cell_type": "code",
   "execution_count": null,
   "metadata": {},
   "outputs": [],
   "source": [
    "# Obs print all combinations from scen 1\n",
    "from src.main.rl.evaluation.eval import plot_observations,plot_actions_taken\n",
    "\n",
    "y_axis_scale=[[0, 1000], [0, 4000], [0, 550], [0, 8000], [0, 180],[0, 32]]\n",
    "for idx,obs_taken in enumerate(list_of_all_obs_taken):\n",
    "    print(f\"combination {idx}\")\n",
    "    plot_observations(obs_taken,y_axis_scale)\n"
   ]
  },
  {
   "cell_type": "code",
   "execution_count": null,
   "metadata": {},
   "outputs": [],
   "source": [
    "#Obs prep - This cell and the next can only be run if the other cell for calculating the agg statistics \n",
    "import matplotlib.pyplot as plt\n",
    "import matplotlib.ticker as plticker\n",
    "from src.main.rl.utils.constants import (\n",
    "    scaling_factors_scenario_1,\n",
    "    scaling_factors_scenario2,\n",
    "    action_dimensions_german,\n",
    "    obs_dimensions_german,\n",
    "    obs_scaling_factors,\n",
    "    obs_dimensions,\n",
    "    scaling_factors_scenario3,\n",
    ")\n",
    "obs_space_size = 6\n",
    "\n",
    "current_obs_scaling_factors = obs_scaling_factors[obs_space_size]\n",
    "no_agg_result_list_obs=[pd.DataFrame() for _ in range(6)]\n",
    "for idx,item in enumerate(obs_prepared):\n",
    "    no_agg_result_list_obs[idx]=item.applymap(lambda x: int(round((x + 1) * (current_obs_scaling_factors[idx] / 2))))"
   ]
  },
  {
   "cell_type": "code",
   "execution_count": null,
   "metadata": {},
   "outputs": [],
   "source": [
    "#Obs\n",
    "import matplotlib.pyplot as plt\n",
    "import matplotlib.ticker as plticker\n",
    "from src.main.rl.utils.constants import (\n",
    "    scaling_factors_scenario_1,\n",
    "    scaling_factors_scenario2,\n",
    "    action_dimensions_german,\n",
    "    obs_dimensions_german,\n",
    "    obs_scaling_factors,\n",
    "    obs_dimensions,\n",
    "    scaling_factors_scenario3,\n",
    ")\n",
    "color_mapping = {\n",
    "    \"standard\": \"#1D2D5F\",\n",
    "    \"red\":\"#F65E5D\",\n",
    "    \"orange\": \"#FF8800\",\n",
    "}\n",
    "#Plot\n",
    "y_axis_scale=[[0,1000],[0,4000],[0,550],[0,8000],[0,180],[0,32]]\n",
    "red_critical_line_1=[-10,2800,450,5100,110,4]\n",
    "red_critical_line_2=[-10,1200,-10,800,-10,-10]\n",
    "orange_critical_line_1=[-10,2500,350,4400,80,9]\n",
    "orange_critical_line_2=[-10,1500,-10,1500,-10,-10]\n",
    "dead_line_1=[-10,2900, 500,5300,140,0]\n",
    "dead_line_2=[-10,1000,-10,300,-10,-10]\n",
    "obs_space_size = 6\n",
    "fig, ax = plt.subplots(int(obs_space_size),1 ,constrained_layout=True)\n",
    "fig.set_figheight(26) \n",
    "fig.set_figwidth(10)\n",
    "for number in range(0,10):\n",
    "    [ax[idx].plot(item.iloc[:,number],color=color_mapping[\"standard\"]) for idx, item in enumerate(no_agg_result_list_obs)]\n",
    "    \n",
    "    #[ax[idx].plot(item[column],color=color_mapping[\"standard\"]) for idx, item in enumerate(no_agg_result_list_obs)]\n",
    "\n",
    "[ax[idx].set_xlabel(\"Zeitschritte\") for idx in range(obs_space_size)]\n",
    "[ax[idx].set_ylabel(\"Value\") for idx in range(obs_space_size)]\n",
    "[ax[idx].set_title(obs_dimensions_german[obs_space_size][idx]) for idx in range(obs_space_size)]\n",
    "[ax[idx].axhline(red_critical_line_1[idx],color=color_mapping[\"red\"],ls='--') for idx in range(obs_space_size)]\n",
    "[ax[idx].axhline(red_critical_line_2[idx],color=color_mapping[\"red\"],ls='--') for idx in range(obs_space_size)]\n",
    "[ax[idx].axhline(orange_critical_line_1[idx],color=color_mapping[\"orange\"],ls='--') for idx in range(obs_space_size)]\n",
    "[ax[idx].axhline(orange_critical_line_2[idx],color=color_mapping[\"orange\"],ls='--') for idx in range(obs_space_size)]\n",
    "[ax[idx].axhline(dead_line_1[idx],color=\"black\",ls='--') for idx in range(obs_space_size)]\n",
    "[ax[idx].axhline(dead_line_2[idx],color=\"black\",ls='--') for idx in range(obs_space_size)]\n",
    "[ax[idx].set_ylim(y_axis_scale[idx]) for idx in range(obs_space_size)]\n",
    "\n",
    "#fig.savefig(\n",
    "#    f\"src/main/rl/evaluation/plot_results/phase3_obs_plot_with_min_max_scen1_wo_all_models.png\",\n",
    "#    format=\"png\",\n",
    "#    dpi=300,\n",
    "#)\n",
    "#plt.show()"
   ]
  },
  {
   "cell_type": "code",
   "execution_count": null,
   "metadata": {},
   "outputs": [],
   "source": [
    "# SOP Analysis\n",
    "from src.main.rl.evaluation.eval import evaluate_sop\n",
    "\n",
    "cum_reward_sop, criticality_score_sop, total_timesteps_sop, actions_taken_sop, obs_taken_sop, info_sop = evaluate_sop()\n"
   ]
  },
  {
   "cell_type": "code",
   "execution_count": null,
   "metadata": {},
   "outputs": [],
   "source": [
    "from src.main.rl.evaluation.eval import plot_observations,plot_actions_taken\n",
    "y_axis_scale_actions=[[0,100],[0,2200],[0,1.1],[0,1.1],[0,2200]]\n",
    "fig=plot_actions_taken(actions_taken_sop,\"scenario1\",y_axis_scale_actions)\n",
    "#fig.savefig(\n",
    "#    f\"src/main/rl/evaluation/plot_results/phase3_action_sop.png\",\n",
    "#    format=\"png\",\n",
    "#    dpi=300,\n",
    "#)"
   ]
  },
  {
   "cell_type": "code",
   "execution_count": null,
   "metadata": {},
   "outputs": [],
   "source": [
    "from src.main.rl.evaluation.eval import plot_observations,plot_actions_taken\n",
    "\n",
    "y_axis_scale_obs=[[0, 1000], [0, 4000], [0, 550], [0, 8000], [0, 180],[0, 32]]\n",
    "fig=plot_observations(obs_taken_sop,y_axis_scale_obs)\n",
    "#fig.savefig(\n",
    "#    f\"src/main/rl/evaluation/plot_results/phase3_obs_sop.png\",\n",
    "#    format=\"png\",\n",
    "#    dpi=300,\n",
    "#)"
   ]
  },
  {
   "cell_type": "code",
   "execution_count": null,
   "metadata": {},
   "outputs": [],
   "source": [
    "# 1000 length\n",
    "cols=[item for item in df_statistics_per_combination.columns if \"1000\" in item]\n",
    "df_statistics_per_combination[cols].round(2)\n"
   ]
  },
  {
   "cell_type": "code",
   "execution_count": null,
   "metadata": {},
   "outputs": [],
   "source": [
    "# EXP1: Criticality Score per combination\n",
    "print(df_statistics_per_combination[[\"episode_length_1000_mean\"]].round(2))\n",
    "\n",
    "\n",
    "print(df_statistics_per_combination[cols].round(2).droplevel(1)[[\"episode_length_1000_mean\",\"episode_length_1000_max\",\"episode_length_1000_std\",\"episode_length_1000_iqr\",\"episode_length_1000_timesteps_mean\"]].transpose().to_latex())"
   ]
  },
  {
   "cell_type": "code",
   "execution_count": null,
   "metadata": {},
   "outputs": [],
   "source": [
    "# 1000 length statistics over the whole df\n",
    "cols=[item for item in df_total.columns if \"1000\" in item]\n",
    "df_total[cols].round(2)\n"
   ]
  },
  {
   "cell_type": "code",
   "execution_count": null,
   "metadata": {},
   "outputs": [],
   "source": [
    "df[[\"episode_length_1000_condensator_pump_blown\",\"episode_length_1000_water_pump_blown\"]].sum()"
   ]
  },
  {
   "cell_type": "code",
   "execution_count": null,
   "metadata": {},
   "outputs": [],
   "source": [
    "cols=[item for item in df_statistics_per_combination.columns if \"criti\" in item]\n",
    "df_statistics_per_combination[cols].round(2)"
   ]
  },
  {
   "cell_type": "code",
   "execution_count": null,
   "metadata": {},
   "outputs": [],
   "source": [
    "############## Start: Exp Noise ###################\n",
    "cols=[item for item in df_statistics_per_combination.columns if \"DelayNoise\" in item]\n",
    "df_statistics_per_combination[cols].round(2)\n",
    "\n",
    "print(df_statistics_per_combination[[\"DelayNoiseWrapperOption1_mean\"]].round(2))\n",
    "print(df_statistics_per_combination[cols].round(2).droplevel(1)[[\"DelayNoiseWrapperOption1_mean\",\"DelayNoiseWrapperOption1_max\",\"DelayNoiseWrapperOption1_min\",\"DelayNoiseWrapperOption1_std\",\"DelayNoiseWrapperOption1_iqr\",\"DelayNoiseWrapperOption2_mean\",\"DelayNoiseWrapperOption2_max\",\"DelayNoiseWrapperOption2_min\",\"DelayNoiseWrapperOption2_std\",\"DelayNoiseWrapperOption2_iqr\"]].transpose().to_latex())\n"
   ]
  },
  {
   "cell_type": "code",
   "execution_count": null,
   "metadata": {},
   "outputs": [],
   "source": [
    "fig, ax = plt.subplots()\n",
    "fig.set_figheight(3)\n",
    "fig.set_figwidth(8)\n",
    "for idx,item in enumerate(delay_noise[\"combination\"].unique()):\n",
    "    ax.boxplot(delay_noise.query(f\"combination=='{item}'\")[[\"DelayNoiseWrapperOption1\",\"DelayNoiseWrapperOption2\"]],positions=[idx,idx+0.2])\n",
    "\n",
    "\n",
    "#ax.boxplot(delay_noise.query(\"automation_wrapper=='NPPAutomationWrapper'\")[[\"DelayNoiseWrapperOption1\",\"DelayNoiseWrapperOption2\"]],positions=[1,1.2])\n",
    "plt.show()\n",
    "\n"
   ]
  },
  {
   "cell_type": "code",
   "execution_count": null,
   "metadata": {},
   "outputs": [],
   "source": [
    "def set_box_color(bp, color,idx):\n",
    "    plt.setp(bp[\"boxes\"], color=color)\n",
    "    plt.setp(bp[\"whiskers\"], color=color)\n",
    "    plt.setp(bp[\"caps\"], color=color)\n",
    "    plt.setp(bp[\"medians\"], color=color)\n",
    "    plt.setp(bp[\"caps\"], color=color)\n",
    "    plt.setp(bp[\"fliers\"], color=color)\n",
    "import matplotlib.pyplot as plt\n",
    "from src.main.rl.utils.constants import color_mapping\n",
    "\n",
    "delay_varies_noise=df[[\"obs_wrapper\",\"automation_wrapper\",\"scenario\",\"DelayNoiseWrapperOption2\",\"DelayNoiseWrapperOption1\",\"combination\",\"ObservationVariesNoiseWrapper1\",\"ObservationVariesPositiveNoiseWrapper\",\"ObservationVariesNegativeNoiseWrapper\"]]\n",
    "\n",
    "order_of_col=[\"ObservationVariesPositiveNoiseWrapper\",\"ObservationVariesNegativeNoiseWrapper\",\"ObservationVariesNoiseWrapper1\",\"DelayNoiseWrapperOption1\",\"DelayNoiseWrapperOption2\"]\n",
    "fig, ax = plt.subplots()\n",
    "ax1=ax.boxplot(delay_varies_noise.query(\"scenario=='src.main.rl.envs.scenario1:Scenario1'\")[order_of_col], positions=[0, 0.2,0.4,0.6,0.8], labels=[\"1a\", \"1b\", \"1c\", \"2a\",\"2b\"])\n",
    "ax2=ax.boxplot(delay_varies_noise.query(\"scenario=='src.main.rl.envs.scenario2:Scenario2'\")[order_of_col],positions=[1.2,1.4,1.6,1.8,2], labels=[\"1a\", \"1b\", \"1c\", \"2a\",\"2b\"])\n",
    "ax3=ax.boxplot(delay_varies_noise.query(\"scenario=='src.main.rl.envs.scenario3:Scenario3'\")[order_of_col],positions=[2.4,2.6,2.8,3,3.2], labels=[\"1a\", \"1b\", \"1c\", \"2a\",\"2b\"])\n",
    "set_box_color(ax1, color_mapping[\"scenario1\"],0)\n",
    "set_box_color(ax1, color_mapping[\"scenario1\"],1)\n",
    "set_box_color(ax2, color_mapping[\"scenario2\"], 0)\n",
    "set_box_color(ax2, color_mapping[\"scenario2\"], 1)\n",
    "set_box_color(ax3, color_mapping[\"scenario3\"], 0)\n",
    "set_box_color(ax3, color_mapping[\"scenario3\"], 1)\n",
    "ax.set_xlabel(\"Noise Options\")\n",
    "ax.set_ylabel(\"Return\")\n",
    "plt.plot([], c=color_mapping[\"scenario1\"], label=\"Scenario 1\")\n",
    "plt.plot([], c=color_mapping[\"scenario2\"], label=\"Scenario 2\")\n",
    "plt.plot([], c=color_mapping[\"scenario3\"], label=\"Scenario 3\")\n",
    "plt.legend()\n",
    "plt.title(\"Rauschen im Bezug auf die Szenarien\")\n",
    "plt.show()\n",
    "fig.savefig(\n",
    "    f\"src/main/rl/evaluation/plot_results/phase3_noise_by_scen.png\",\n",
    "    format=\"png\",\n",
    "    dpi=300,\n",
    ")"
   ]
  },
  {
   "cell_type": "code",
   "execution_count": null,
   "metadata": {},
   "outputs": [],
   "source": [
    "def set_box_color(bp, color,idx):\n",
    "    plt.setp(bp[\"boxes\"], color=color)\n",
    "    plt.setp(bp[\"whiskers\"], color=color)\n",
    "    plt.setp(bp[\"caps\"], color=color)\n",
    "    plt.setp(bp[\"medians\"], color=color)\n",
    "    plt.setp(bp[\"caps\"], color=color)\n",
    "    plt.setp(bp[\"fliers\"], color=color)\n",
    "import matplotlib.pyplot as plt\n",
    "from src.main.rl.utils.constants import color_mapping\n",
    "\n",
    "delay_varies_noise=df[[\"obs_wrapper\",\"automation_wrapper\",\"scenario\",\"DelayNoiseWrapperOption2_timesteps\",\"DelayNoiseWrapperOption1_timesteps\",\"combination\",\"ObservationVariesNoiseWrapper1_timesteps\",\"ObservationVariesPositiveNoiseWrapper_timesteps\",\"ObservationVariesNegativeNoiseWrapper_timesteps\"]]\n",
    "\n",
    "order_of_col=[\"ObservationVariesPositiveNoiseWrapper_timesteps\",\"ObservationVariesNegativeNoiseWrapper_timesteps\",\"ObservationVariesNoiseWrapper1_timesteps\",\"DelayNoiseWrapperOption1_timesteps\",\"DelayNoiseWrapperOption2_timesteps\"]\n",
    "fig, ax = plt.subplots()\n",
    "ax1=ax.boxplot(delay_varies_noise.query(\"scenario=='src.main.rl.envs.scenario1:Scenario1'\")[order_of_col], positions=[0, 0.2,0.4,0.6,0.8], labels=[\"1a\", \"1b\", \"1c\", \"2a\",\"2b\"])\n",
    "ax2=ax.boxplot(delay_varies_noise.query(\"scenario=='src.main.rl.envs.scenario2:Scenario2'\")[order_of_col],positions=[1.2,1.4,1.6,1.8,2], labels=[\"1a\", \"1b\", \"1c\", \"2a\",\"2b\"])\n",
    "ax3=ax.boxplot(delay_varies_noise.query(\"scenario=='src.main.rl.envs.scenario3:Scenario3'\")[order_of_col],positions=[2.4,2.6,2.8,3,3.2], labels=[\"1a\", \"1b\", \"1c\", \"2a\",\"2b\"])\n",
    "set_box_color(ax1, color_mapping[\"scenario1\"],0)\n",
    "set_box_color(ax1, color_mapping[\"scenario1\"],1)\n",
    "set_box_color(ax2, color_mapping[\"scenario2\"], 0)\n",
    "set_box_color(ax2, color_mapping[\"scenario2\"], 1)\n",
    "set_box_color(ax3, color_mapping[\"scenario3\"], 0)\n",
    "set_box_color(ax3, color_mapping[\"scenario3\"], 1)\n",
    "ax.set_xlabel(\"Noise Options\")\n",
    "ax.set_ylabel(\"Return\")\n",
    "plt.plot([], c=color_mapping[\"scenario1\"], label=\"Scenario 1\")\n",
    "plt.plot([], c=color_mapping[\"scenario2\"], label=\"Scenario 2\")\n",
    "plt.plot([], c=color_mapping[\"scenario3\"], label=\"Scenario 3\")\n",
    "plt.legend()\n",
    "plt.title(\"Rauschen im Bezug die Szenarien\")\n",
    "plt.show()\n",
    "fig.savefig(\n",
    "    f\"src/main/rl/evaluation/plot_results/phase3_noise_by_scen.png\",\n",
    "    format=\"png\",\n",
    "    dpi=300,\n",
    ")"
   ]
  },
  {
   "cell_type": "code",
   "execution_count": null,
   "metadata": {},
   "outputs": [],
   "source": [
    "fig, ax = plt.subplots()\n",
    "ax1=ax.boxplot(delay_varies_noise.query(\"automation_wrapper.isna()\")[order_of_col], positions=[0, 0.2,0.4,0.6,0.8], labels=[\"1a\", \"1b\", \"1c\", \"2a\",\"2b\"])\n",
    "ax2=ax.boxplot(delay_varies_noise.query(\"automation_wrapper=='NPPAutomationWrapper'\")[order_of_col],positions=[1.2,1.4,1.6,1.8,2],labels=[\"1a\", \"1b\", \"1c\", \"2a\",\"2b\"])\n",
    "set_box_color(ax1, color_mapping[\"red\"],0)\n",
    "set_box_color(ax1, color_mapping[\"red\"],1)\n",
    "set_box_color(ax2, color_mapping[\"NPPAutomationWrapper\"], 0)\n",
    "set_box_color(ax2, color_mapping[\"NPPAutomationWrapper\"], 1)\n",
    "\n",
    "ax.set_xlabel(\"Noise Options\")\n",
    "ax.set_ylabel(\"Return\")\n",
    "plt.plot([], c=color_mapping[\"NPPAutomationWrapper\"], label=\"NPPAutomation aktiviert\")\n",
    "plt.plot([], c=color_mapping[\"red\"], label=\"NPPAutomation deaktiviert\")\n",
    "plt.legend()\n",
    "plt.title(\"Rauschen im Bezug auf NPPAutomation\")\n",
    "plt.show()\n",
    "fig.savefig(\n",
    "    f\"src/main/rl/evaluation/plot_results/phase3_noise_by_automation.png\",\n",
    "    format=\"png\",\n",
    "    dpi=300,\n",
    ")"
   ]
  },
  {
   "cell_type": "code",
   "execution_count": null,
   "metadata": {},
   "outputs": [],
   "source": [
    "import pandas as pd\n",
    "from src.main.rl.utils.parser import parse_wrapper\n",
    "from src.main.rl.utils.combined_parser import parse_information_from_path\n",
    "from src.main.rl.evaluation.eval import evaluate\n",
    "from src.main.rl.utils.utils import WrapperMaker\n",
    "from src.main.rl.evaluation.wrapper.noise.obs_varies_wrapper import ObservationVariesNegativeNoiseWrapper, ObservationVariesPositiveNoiseWrapper\n",
    "from src.main.rl.evaluation.plots.phase3_plots import plot_observations,plot_actions_taken\n",
    "from src.main.rl.evaluation.eval import evaluate,evaluate_terminal_state_obs\n",
    "path = \"src/main/rl/models/scenario1/training_04_06/scenario1_ActionSpaceOption3Wrapper_ObservationOption4Wrapper_None_RewardOption2Wrapper_TD3_training_04_06_3\"\n",
    "\n",
    "path_to_overhand = path + \"/best_model.zip\"\n",
    "    \n",
    "action_wrapper, automation_wrapper, obs_wrapper, reward_wrapper = parse_wrapper(path)\n",
    "scenario, alg, wrapper_maker = parse_information_from_path(path)\n",
    "wrapper_maker=WrapperMaker(action_wrapper, automation_wrapper, obs_wrapper, reward_wrapper,None,ObservationVariesNegativeNoiseWrapper)\n",
    "cum_reward, criticality_score, total_timesteps, actions_taken, obs_taken,info = evaluate(scenario, path_to_overhand, alg, wrapper_maker, episode_length=5)\n",
    "cum_reward2,obs_taken2,info2 = evaluate_terminal_state_obs(scenario, path_to_overhand, alg, wrapper_maker, episode_length=5)\n",
    "\n",
    "assert cum_reward2==cum_reward\n",
    "y_axis_scale_obs=[[0, 1000], [0, 4000], [0, 550], [0, 8000], [0, 180],[0, 32]]\n",
    "\n",
    "# TODO if needed plot also the changed obs into the graphs\n",
    "fig=plot_observations(obs_taken2,y_axis_scale_obs)\n",
    "fig1=plot_observations(obs_taken,y_axis_scale_obs)\n",
    "fig2=plot_actions_taken(actions_taken, \"scenario1\")\n",
    "#fig2.savefig(\n",
    "#    f\"src/main/rl/evaluation/plot_results/phase3_noise_combi_1_action_not_working.png\",\n",
    "#    format=\"png\",\n",
    "#    dpi=300,\n",
    "#)"
   ]
  },
  {
   "cell_type": "code",
   "execution_count": null,
   "metadata": {},
   "outputs": [],
   "source": [
    "wrapper_maker=WrapperMaker(action_wrapper, automation_wrapper, obs_wrapper, reward_wrapper,None,None)\n",
    "cum_reward, criticality_score, total_timesteps, actions_taken, obs_taken,info = evaluate(scenario, path_to_overhand, alg, wrapper_maker, episode_length=2)\n",
    "    \n",
    "from src.main.rl.evaluation.plots.phase3_plots import plot_observations,plot_actions_taken\n",
    "\n",
    "\n",
    "y_axis_scale_obs=[[0, 1000], [0, 4000], [0, 550], [0, 8000], [0, 180],[0, 32]]\n",
    "#fig=plot_observations(obs_taken,y_axis_scale_obs)\n",
    "#fig2=plot_actions_taken(actions_taken, \"scenario1\")\n",
    "#fig2.savefig(\n",
    "#    f\"src/main/rl/evaluation/plot_results/phase3_noise_combi_1_action_not_working_comp_with_working.png\",\n",
    "#    format=\"png\",\n",
    "#    dpi=300,\n",
    "#)"
   ]
  },
  {
   "cell_type": "code",
   "execution_count": null,
   "metadata": {},
   "outputs": [],
   "source": [
    "################ Experiment: Starting State ##################\n",
    "cols=[col for col in df.columns if \"starting\" in col and \"criticality\" not in col]\n",
    "df[cols].mean()"
   ]
  },
  {
   "cell_type": "code",
   "execution_count": null,
   "metadata": {},
   "outputs": [],
   "source": [
    "df[[\"create_starting_state_option1\",\"create_starting_state_option1_timesteps\"]]        "
   ]
  },
  {
   "cell_type": "code",
   "execution_count": null,
   "metadata": {},
   "outputs": [],
   "source": [
    "import pandas as pd\n",
    "from src.main.rl.utils.parser import parse_wrapper\n",
    "from src.main.rl.utils.combined_parser import parse_information_from_path\n",
    "from src.main.rl.evaluation.eval import evaluate\n",
    "from src.main.rl.utils.utils import WrapperMaker\n",
    "from src.main.rl.evaluation.wrapper.noise.obs_varies_wrapper import ObservationVariesNegativeNoiseWrapper, ObservationVariesPositiveNoiseWrapper\n",
    "from src.main.rl.evaluation.plots.phase3_plots import plot_observations,plot_actions_taken\n",
    "from src.main.rl.evaluation.eval import evaluate,evaluate_terminal_state_obs\n",
    "from src.main.rl.utils.constants import (\n",
    "    ALL_OBS_NOISE_WRAPPERS,\n",
    "    ALL_DELAY_NOISE_WRAPPERS,\n",
    "    STARTING_STATE_OPTION1,\n",
    "    STARTING_STATE_OPTION2,\n",
    "    STARTING_STATE_OPTION3,\n",
    ")\n",
    "path=\"src/main/rl/models/scenario1/training_04_06/scenario1_ActionSpaceOption3Wrapper_ObservationOption4Wrapper_None_RewardOption2Wrapper_TD3_training_04_06_8\"\n",
    "#path = \"src/main/rl/models/scenario1/training_04_06/scenario1_ActionSpaceOption3Wrapper_ObservationOption5Wrapper_NPPAutomationWrapper_RewardOption2Wrapper_SAC_training_04_06_5\"\n",
    "\n",
    "path_to_overhand = path + \"/best_model.zip\"\n",
    "    \n",
    "action_wrapper, automation_wrapper, obs_wrapper, reward_wrapper = parse_wrapper(path)\n",
    "scenario, alg, wrapper_maker = parse_information_from_path(path)\n",
    "wrapper_maker=WrapperMaker(action_wrapper, automation_wrapper, obs_wrapper, reward_wrapper,None,None)\n",
    "cum_reward, criticality_score, total_timesteps, actions_taken, obs_taken,info = evaluate(scenario, path_to_overhand, alg, wrapper_maker, episode_length=250, starting_state=STARTING_STATE_OPTION1[0]())\n",
    "cum_reward2,obs_taken2,info2 = evaluate_terminal_state_obs(scenario, path_to_overhand, alg, wrapper_maker, episode_length=250, starting_state=STARTING_STATE_OPTION1[0]())\n",
    "\n",
    "assert cum_reward2==cum_reward\n",
    "y_axis_scale_obs=[[0, 1000], [0, 4000], [0, 550], [0, 8000], [0, 180],[0, 32]]\n",
    "\n",
    "# TODO if needed plot also the changed obs into the graphs\n",
    "fig=plot_observations(obs_taken),#y_axis_scale_obs)\n",
    "print(fig)\n",
    "fig[0].savefig(\n",
    "    f\"src/main/rl/evaluation/plot_results/phase3_starting_state1_combi2_obs.png\",\n",
    "    format=\"png\",\n",
    "    dpi=300,\n",
    ")\n",
    "fig2=plot_actions_taken(actions_taken, \"scenario1\")\n",
    "\n",
    "fig2.savefig(\n",
    "    f\"src/main/rl/evaluation/plot_results/phase3_starting_state1_combi2_act.png\",\n",
    "    format=\"png\",\n",
    "    dpi=300,\n",
    ")"
   ]
  },
  {
   "cell_type": "code",
   "execution_count": null,
   "metadata": {},
   "outputs": [],
   "source": [
    "df[[\"create_starting_state_option2_timesteps\",\"create_starting_state_option2a_timesteps\"\n",
    "    ,\"create_starting_state_option2b_timesteps\"]]        "
   ]
  },
  {
   "cell_type": "code",
   "execution_count": null,
   "metadata": {},
   "outputs": [],
   "source": [
    "def set_box_color(bp, color,idx):\n",
    "    plt.setp(bp[\"boxes\"], color=color)\n",
    "    plt.setp(bp[\"whiskers\"], color=color)\n",
    "    plt.setp(bp[\"caps\"], color=color)\n",
    "    plt.setp(bp[\"medians\"], color=color)\n",
    "    plt.setp(bp[\"caps\"], color=color)\n",
    "    plt.setp(bp[\"fliers\"], color=color)\n",
    "import matplotlib.pyplot as plt\n",
    "from src.main.rl.utils.constants import color_mapping\n",
    "\n",
    "starting_state2=df[[\"obs_wrapper\",\"automation_wrapper\",\"scenario\",\"create_starting_state_option2_timesteps\",\"create_starting_state_option2a_timesteps\"\n",
    "    ,\"create_starting_state_option2b_timesteps\"]]\n",
    "\n",
    "order_of_col=[\"create_starting_state_option2_timesteps\",\"create_starting_state_option2a_timesteps\"\n",
    "    ,\"create_starting_state_option2b_timesteps\"]\n",
    "fig, ax = plt.subplots()\n",
    "ax1=ax.boxplot(starting_state2.query(\"scenario=='src.main.rl.envs.scenario1:Scenario1'\")[order_of_col], positions=[0, 0.2,0.4,], labels=[\"2a\", \"2b\", \"2c\",])\n",
    "ax2=ax.boxplot(starting_state2.query(\"scenario=='src.main.rl.envs.scenario2:Scenario2'\")[order_of_col],positions=[0.9,1.1,1.3,], labels=[\"2a\", \"2b\", \"2c\",])\n",
    "ax3=ax.boxplot(starting_state2.query(\"scenario=='src.main.rl.envs.scenario3:Scenario3'\")[order_of_col],positions=[1.8,2,2.2], labels=[\"2a\", \"2b\", \"2c\",])\n",
    "set_box_color(ax1, color_mapping[\"scenario1\"],0)\n",
    "set_box_color(ax1, color_mapping[\"scenario1\"],1)\n",
    "set_box_color(ax2, color_mapping[\"scenario2\"], 0)\n",
    "set_box_color(ax2, color_mapping[\"scenario2\"], 1)\n",
    "set_box_color(ax3, color_mapping[\"scenario3\"], 0)\n",
    "set_box_color(ax3, color_mapping[\"scenario3\"], 1)\n",
    "ax.set_xlabel(\"Startzustände\")\n",
    "ax.set_ylabel(\"Absolvierte Zeitschritte\")\n",
    "plt.plot([], c=color_mapping[\"scenario1\"], label=\"Scenario 1\")\n",
    "plt.plot([], c=color_mapping[\"scenario2\"], label=\"Scenario 2\")\n",
    "plt.plot([], c=color_mapping[\"scenario3\"], label=\"Scenario 3\")\n",
    "plt.legend()\n",
    "plt.title(\"Einfluss der Startzustände der Option 2 (Szenarien)\")\n",
    "plt.show()\n",
    "# TODO if necessary change scenario and Startzustände\n",
    "fig.savefig(\n",
    "    f\"src/main/rl/evaluation/plot_results/phase3_starting_state_2_by_scen.png\",\n",
    "    format=\"png\",\n",
    "    dpi=300,\n",
    ")"
   ]
  },
  {
   "cell_type": "code",
   "execution_count": null,
   "metadata": {},
   "outputs": [],
   "source": [
    "starting_state2.groupby(\"scenario\").agg(\"mean\")"
   ]
  },
  {
   "cell_type": "code",
   "execution_count": null,
   "metadata": {},
   "outputs": [],
   "source": [
    "fig, ax = plt.subplots()\n",
    "ax1=ax.boxplot(starting_state2.query(\"automation_wrapper.isna()\")[order_of_col], positions=[0, 0.2,0.4,], labels=[\"2a\", \"2b\", \"2c\",])\n",
    "ax2=ax.boxplot(starting_state2.query(\"automation_wrapper=='NPPAutomationWrapper'\")[order_of_col],positions=[0.9,1.1,1.3,], labels=[\"2a\", \"2b\", \"2c\",])\n",
    "set_box_color(ax1, color_mapping[\"red\"],0)\n",
    "set_box_color(ax1, color_mapping[\"red\"],1)\n",
    "set_box_color(ax2, color_mapping[\"NPPAutomationWrapper\"], 1)\n",
    "\n",
    "ax.set_xlabel(\"Startzustände\")\n",
    "ax.set_ylabel(\"Absolvierte Zeitschritte\")\n",
    "plt.plot([], c=color_mapping[\"NPPAutomationWrapper\"], label=\"NPPAutomation aktiviert\")\n",
    "plt.plot([], c=color_mapping[\"red\"], label=\"NPPAutomation deaktiviert\")\n",
    "plt.legend()\n",
    "plt.title(\"Einfluss der Startzustände der Option 2 (NPPAutomation)\")\n",
    "plt.show()\n",
    "fig.savefig(\n",
    "    f\"src/main/rl/evaluation/plot_results/phase3_starting_state_2_by_automation.png\",\n",
    "    format=\"png\",\n",
    "    dpi=300,\n",
    ")"
   ]
  },
  {
   "cell_type": "code",
   "execution_count": null,
   "metadata": {},
   "outputs": [],
   "source": [
    "starting_state2.loc[starting_state2[\"automation_wrapper\"].isna(),\"automation_wrapper\"]=\"NaN\"\n",
    "starting_state2.groupby(\"automation_wrapper\").agg(\"mean\")\n"
   ]
  },
  {
   "cell_type": "code",
   "execution_count": null,
   "metadata": {},
   "outputs": [],
   "source": [
    "def set_box_color(bp, color,idx):\n",
    "    plt.setp(bp[\"boxes\"], color=color)\n",
    "    plt.setp(bp[\"whiskers\"], color=color)\n",
    "    plt.setp(bp[\"caps\"], color=color)\n",
    "    plt.setp(bp[\"medians\"], color=color)\n",
    "    plt.setp(bp[\"caps\"], color=color)\n",
    "    plt.setp(bp[\"fliers\"], color=color)\n",
    "import matplotlib.pyplot as plt\n",
    "from src.main.rl.utils.constants import color_mapping\n",
    "\n",
    "starting_state2=df[[\"obs_wrapper\",\"automation_wrapper\",\"scenario\",\"create_starting_state_option2_timesteps\",\"create_starting_state_option2a_timesteps\"\n",
    "    ,\"create_starting_state_option2b_timesteps\"]]\n",
    "\n",
    "order_of_col=[\"create_starting_state_option2_timesteps\",\"create_starting_state_option2a_timesteps\"\n",
    "    ,\"create_starting_state_option2b_timesteps\"]\n",
    "fig, ax = plt.subplots()\n",
    "ax1=ax.boxplot(starting_state2.query(\"scenario=='src.main.rl.envs.scenario1:Scenario1' and automation_wrapper.isna()\")[order_of_col], positions=[0, 0.2,0.4,], labels=[\"2a\", \"2b\", \"2c\",])\n",
    "ax2=ax.boxplot(starting_state2.query(\"scenario=='src.main.rl.envs.scenario1:Scenario1' and automation_wrapper=='NPPAutomationWrapper'\")[order_of_col], positions=[0.8, 1,1.2,], labels=[\"2a\", \"2b\", \"2c\",])\n",
    "ax3=ax.boxplot(starting_state2.query(\"scenario=='src.main.rl.envs.scenario2:Scenario2' and automation_wrapper.isna()\")[order_of_col],positions=[2,2.2,2.4], labels=[\"2a\", \"2b\", \"2c\",])\n",
    "ax4=ax.boxplot(starting_state2.query(\"scenario=='src.main.rl.envs.scenario2:Scenario2' and automation_wrapper=='NPPAutomationWrapper'\")[order_of_col],positions=[2.8,3,3.2], labels=[\"2a\", \"2b\", \"2c\",])\n",
    "ax5=ax.boxplot(starting_state2.query(\"scenario=='src.main.rl.envs.scenario3:Scenario3' and automation_wrapper.isna()\")[order_of_col],positions=[4,4.2,4.4], labels=[\"2a\", \"2b\", \"2c\",])\n",
    "ax6=ax.boxplot(starting_state2.query(\"scenario=='src.main.rl.envs.scenario3:Scenario3' and automation_wrapper=='NPPAutomationWrapper'\")[order_of_col],positions=[4.8,5,5.2], labels=[\"2a\", \"2b\", \"2c\",])\n",
    "set_box_color(ax1, color_mapping[\"scenario1\"],0)\n",
    "set_box_color(ax1, color_mapping[\"scenario1\"],1)\n",
    "set_box_color(ax2, color_mapping[\"scenario2\"], 0)\n",
    "set_box_color(ax2, color_mapping[\"scenario2\"], 1)\n",
    "set_box_color(ax3, color_mapping[\"scenario3\"], 0)\n",
    "set_box_color(ax3, color_mapping[\"scenario3\"], 1)\n",
    "ax.set_xlabel(\"Startzustände\")\n",
    "ax.set_ylabel(\"Absolvierte Zeitschritte\")\n",
    "plt.plot([], c=color_mapping[\"scenario1\"], label=\"Scenario 1\")\n",
    "plt.plot([], c=color_mapping[\"scenario2\"], label=\"Scenario 2\")\n",
    "plt.plot([], c=color_mapping[\"scenario3\"], label=\"Scenario 3\")\n",
    "plt.legend()\n",
    "plt.title(\"Einfluss der Startzustände der Option 2 (Szenarien)\")\n",
    "plt.show()\n",
    "# TODOFarben\n",
    "fig.savefig(\n",
    "    f\"src/main/rl/evaluation/plot_results/phase3_starting_state_2_by_scen.png\",\n",
    "    format=\"png\",\n",
    "    dpi=300,\n",
    ")"
   ]
  },
  {
   "cell_type": "code",
   "execution_count": null,
   "metadata": {},
   "outputs": [],
   "source": [
    "starting_state3=df[[\"obs_wrapper\",\"automation_wrapper\",\"scenario\",\"create_starting_state_option3a_timesteps\"]]\n",
    "\n",
    "starting_state3.loc[starting_state3[\"automation_wrapper\"].isna(),\"automation_wrapper\"]=\"NaN\"\n",
    "starting_state3.groupby(\"automation_wrapper\").agg(\"mean\")"
   ]
  },
  {
   "cell_type": "code",
   "execution_count": null,
   "metadata": {},
   "outputs": [],
   "source": [
    "starting_state3.groupby(\"scenario\").agg(\"mean\")"
   ]
  },
  {
   "cell_type": "code",
   "execution_count": null,
   "metadata": {},
   "outputs": [],
   "source": [
    "df_statistics_per_combination[[\"create_starting_state_option1_timesteps_mean\",\"create_starting_state_option2_timesteps_mean\",\"create_starting_state_option2a_timesteps_mean\",\"create_starting_state_option2b_timesteps_mean\",\"create_starting_state_option3_timesteps_mean\",\"create_starting_state_option3a_timesteps_mean\"]].agg([\"mean\",\"max\",\"min\",\"std\"],axis=1)"
   ]
  },
  {
   "cell_type": "code",
   "execution_count": null,
   "metadata": {},
   "outputs": [],
   "source": [
    "print(df_statistics_per_combination[[\"create_starting_state_option1_timesteps_mean\",\"create_starting_state_option2_timesteps_mean\",\"create_starting_state_option2a_timesteps_mean\",\"create_starting_state_option2b_timesteps_mean\",\"create_starting_state_option3_timesteps_mean\",\"create_starting_state_option3a_timesteps_mean\"]].agg([\"mean\",\"max\",\"min\",\"std\"],axis=1).droplevel(1).round(2).transpose().to_latex())"
   ]
  },
  {
   "cell_type": "code",
   "execution_count": null,
   "metadata": {},
   "outputs": [],
   "source": [
    "# TODO t-test? bzw ANOVA\n"
   ]
  },
  {
   "cell_type": "code",
   "execution_count": null,
   "metadata": {},
   "outputs": [],
   "source": [
    "starting_state_total=df[[\"obs_wrapper\",\"automation_wrapper\",\"scenario\",\"create_starting_state_option1_timesteps\",\"create_starting_state_option2_timesteps\",\"create_starting_state_option2a_timesteps\"\n",
    "    ,\"create_starting_state_option2b_timesteps\",\"create_starting_state_option3_timesteps\"]]"
   ]
  },
  {
   "cell_type": "code",
   "execution_count": null,
   "metadata": {},
   "outputs": [],
   "source": [
    "starting_state_total.loc[starting_state_total[\"automation_wrapper\"].isna(),\"automation_wrapper\"]=\"NaN\"\n",
    "starting_state_total.groupby(\"scenario\").agg([\"mean\"],axis=0).round(2).agg(\"mean\", axis=1)"
   ]
  },
  {
   "cell_type": "code",
   "execution_count": null,
   "metadata": {},
   "outputs": [],
   "source": [
    "starting_state_total.loc[starting_state_total[\"automation_wrapper\"].isna(),\"automation_wrapper\"]=\"NaN\"\n",
    "starting_state_total.groupby(\"automation_wrapper\").agg([\"mean\"],axis=0).round(2).agg(\"mean\", axis=1)"
   ]
  },
  {
   "cell_type": "code",
   "execution_count": null,
   "metadata": {},
   "outputs": [],
   "source": [
    "# T-test\n",
    "from scipy.stats import ttest_ind\n",
    "wo_NPP=starting_state_total[starting_state_total[\"automation_wrapper\"]==\"NaN\"].drop(columns=[\"obs_wrapper\",\"scenario\",\"automation_wrapper\"])\n",
    "wo_NPP=wo_NPP.stack().reset_index(drop=True)\n",
    "w_NPP=starting_state_total[starting_state_total[\"automation_wrapper\"]==\"NPPAutomationWrapper\"].drop(columns=[\"obs_wrapper\",\"scenario\",\"automation_wrapper\"])\n",
    "w_NPP=w_NPP.stack().reset_index(drop=True)\n",
    "\n",
    "ttest_ind(wo_NPP,w_NPP)"
   ]
  },
  {
   "cell_type": "code",
   "execution_count": null,
   "metadata": {},
   "outputs": [],
   "source": [
    "wo_NPP=starting_state_total[starting_state_total[\"automation_wrapper\"]==\"NaN\"].drop(columns=[\"obs_wrapper\",\"scenario\",\"automation_wrapper\"])[\"create_starting_state_option3_timesteps\"]\n",
    "w_NPP=starting_state_total[starting_state_total[\"automation_wrapper\"]==\"NPPAutomationWrapper\"].drop(columns=[\"obs_wrapper\",\"scenario\",\"automation_wrapper\"])[\"create_starting_state_option3_timesteps\"]\n",
    "ttest_ind(wo_NPP,w_NPP)"
   ]
  },
  {
   "cell_type": "code",
   "execution_count": null,
   "metadata": {},
   "outputs": [],
   "source": [
    "starting_state_total.eq(250).sum().sum()"
   ]
  },
  {
   "cell_type": "code",
   "execution_count": null,
   "metadata": {},
   "outputs": [],
   "source": [
    "################# EXP: NPP Automation activated/deactivated ################\n",
    "[col for col in df.columns if \"npp\" in col]\n",
    "df[[\"result_wo_npp_automation\",\"result_w_npp_automation\",\"automation_wrapper\",\"scenario\"]].max()"
   ]
  }
 ],
 "metadata": {
  "kernelspec": {
   "display_name": "Python 3 (ipykernel)",
   "language": "python",
   "name": "python3"
  },
  "language_info": {
   "codemirror_mode": {
    "name": "ipython",
    "version": 3
   },
   "file_extension": ".py",
   "mimetype": "text/x-python",
   "name": "python",
   "nbconvert_exporter": "python",
   "pygments_lexer": "ipython3",
   "version": "3.8.8"
  }
 },
 "nbformat": 4,
 "nbformat_minor": 4
}
