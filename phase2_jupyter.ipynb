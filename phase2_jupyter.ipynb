{
 "cells": [
  {
   "cell_type": "code",
   "execution_count": null,
   "id": "9ccfe2c1-322b-4d1c-bb5a-9a8e79b702b1",
   "metadata": {},
   "outputs": [],
   "source": [
    "import pandas as pd\n",
    "import glob\n",
    "from src.main.rl.evaluation.phase2_evaluation import create_evaluation_df_phase2\n",
    "\n",
    "path_to_save = \"src/main/rl/evaluation/output/phase2_evaluation_results.csv\"\n",
    "pd.options.display.max_colwidth = 300\n",
    "df = pd.DataFrame()\n",
    "try:\n",
    "    df = pd.read_csv(path_to_save)\n",
    "except:\n",
    "    pass\n",
    "if df.empty:\n",
    "    all_files = []\n",
    "    for file in glob.glob(\"src/main/rl/models/*/*/*/*.zip\", recursive=True):\n",
    "        all_files.append(file)\n",
    "    df = create_evaluation_df_phase2(path_to_save, all_files)\n",
    "df"
   ]
  },
  {
   "cell_type": "code",
   "execution_count": null,
   "id": "34a9b196-3553-4b5a-a931-9462acaa6150",
   "metadata": {},
   "outputs": [],
   "source": [
    "df_wo_automation = df.query(\"automation_wrapper.isna() == True\")\n",
    "df_w_automation = df[df[\"automation_wrapper\"] == \"NPPAutomationWrapper\"]"
   ]
  },
  {
   "cell_type": "code",
   "execution_count": null,
   "id": "f642c4d4-88da-43bc-8854-e20798639e2c",
   "metadata": {},
   "outputs": [],
   "source": [
    "from scipy.stats import iqr\n",
    "\n",
    "statistics_wo = (\n",
    "    df_wo_automation.set_index(\"full_path\")\n",
    "    .groupby(\"combination\")\n",
    "    .agg(\n",
    "        return_mean=(\"cum_reward\", \"mean\"),\n",
    "        return_max=(\"cum_reward\", \"max\"),\n",
    "        return_std=(\"cum_reward\", \"std\"),\n",
    "        return_iqr=(\"cum_reward\", iqr),\n",
    "        timesteps_min=(\"total_timesteps\", \"min\"),\n",
    "        criticality_score_max=(\"criticality_score\", \"max\"),\n",
    "        criticality_score_std=(\"criticality_score\", \"std\"),\n",
    "        criticality_score__iqr=(\"criticality_score\", iqr),\n",
    "        scenario=(\"scenario\", \"first\"),\n",
    "        alg=(\"alg\", \"first\"),\n",
    "        action_wrapper=(\"action_wrapper\", \"first\"),\n",
    "        obs_wrapper=(\"obs_wrapper\", \"first\"),\n",
    "        automation_wrapper=(\"automation_wrapper\", \"first\"),\n",
    "    )\n",
    ")\n",
    "\n",
    "statistics_w = (\n",
    "    df_w_automation.set_index(\"full_path\")\n",
    "    .groupby(\"combination\")\n",
    "    .agg(\n",
    "        return_mean=(\"cum_reward\", \"mean\"),\n",
    "        return_max=(\"cum_reward\", \"max\"),\n",
    "        return_std=(\"cum_reward\", \"std\"),\n",
    "        return_iqr=(\"cum_reward\", iqr),\n",
    "        timesteps_min=(\"total_timesteps\", \"min\"),\n",
    "        criticality_score_max=(\"criticality_score\", \"max\"),\n",
    "        criticality_score_std=(\"criticality_score\", \"std\"),\n",
    "        criticality_score__iqr=(\"criticality_score\", iqr),\n",
    "        scenario=(\"scenario\", \"first\"),\n",
    "        alg=(\"alg\", \"first\"),\n",
    "        action_wrapper=(\"action_wrapper\", \"first\"),\n",
    "        obs_wrapper=(\"obs_wrapper\", \"first\"),\n",
    "        automation_wrapper=(\"automation_wrapper\", \"first\"),\n",
    "    )\n",
    ")\n",
    "assert len(statistics_wo) == 120\n",
    "assert len(statistics_w) == 120\n",
    "\n",
    "statistics_wo.merge(statistics_w, how=\"outer\").sort_values(\"return_mean\")"
   ]
  },
  {
   "cell_type": "code",
   "execution_count": null,
   "id": "ee738569-10f1-4e00-95b6-6f56302c823c",
   "metadata": {},
   "outputs": [],
   "source": [
    "from src.main.rl.evaluation.plots.phase2_plots import create_multi_object_plot, create_phase_2_counts_plots\n",
    "\n",
    "figures = create_multi_object_plot(statistics_wo.merge(statistics_w, how=\"outer\"))\n",
    "for idx, fig in enumerate(figures):\n",
    "    fig.savefig(\n",
    "        f\"src/main/rl/evaluation/plot_results/phase2_summary_plots{idx}.png\",\n",
    "        format=\"png\",\n",
    "        dpi=300,\n",
    "    )"
   ]
  },
  {
   "cell_type": "code",
   "execution_count": null,
   "id": "f9829275-fc48-4fd5-9c38-0d76a8f69e46",
   "metadata": {},
   "outputs": [],
   "source": [
    "# Whole df\n",
    "for item in [\"obs_wrapper\", \"scenario\", \"action_wrapper\", \"alg\"]:\n",
    "    df_special = (\n",
    "        df.groupby(item)\n",
    "        .agg(\n",
    "            return_mean=(\"cum_reward\", \"mean\"),\n",
    "            return_max=(\"cum_reward\", \"max\"),\n",
    "            return_std=(\"cum_reward\", \"std\"),\n",
    "            return_iqr=(\"cum_reward\", iqr),\n",
    "        )\n",
    "        .round(2)\n",
    "    )\n",
    "    print(df_special)\n",
    "   # print(df_special.to_latex())"
   ]
  },
  {
   "cell_type": "code",
   "execution_count": null,
   "id": "30a2bd93-35d0-4b35-a1a4-3075092a6db0",
   "metadata": {},
   "outputs": [],
   "source": [
    "# WO Autmation\n",
    "for item in [\"obs_wrapper\", \"scenario\", \"action_wrapper\", \"alg\"]:\n",
    "    df_special = (\n",
    "        df_wo_automation.groupby(item)\n",
    "        .agg(\n",
    "            return_mean=(\"cum_reward\", \"mean\"),\n",
    "            return_max=(\"cum_reward\", \"max\"),\n",
    "            return_std=(\"cum_reward\", \"std\"),\n",
    "            return_iqr=(\"cum_reward\", iqr),\n",
    "        )\n",
    "        .round(2)\n",
    "    )\n",
    "    print(df_special)"
   ]
  },
  {
   "cell_type": "code",
   "execution_count": null,
   "id": "5cc70c84-bc0d-4820-a8e7-13eec9a8b6a5",
   "metadata": {},
   "outputs": [],
   "source": [
    "#W Automation\n",
    "for item in [\"obs_wrapper\", \"scenario\", \"action_wrapper\", \"alg\"]:\n",
    "    df_special = (\n",
    "        df_w_automation.groupby(item)\n",
    "        .agg(\n",
    "            return_mean=(\"cum_reward\", \"mean\"),\n",
    "            return_max=(\"cum_reward\", \"max\"),\n",
    "            return_std=(\"cum_reward\", \"std\"),\n",
    "            return_iqr=(\"cum_reward\", iqr),\n",
    "        )\n",
    "        .round(2)\n",
    "    )\n",
    "    print(df_special)"
   ]
  },
  {
   "cell_type": "code",
   "execution_count": null,
   "id": "b716f8e2-3c4b-4ea1-963e-9d5724e7bd3e",
   "metadata": {},
   "outputs": [],
   "source": [
    "from scipy.stats import ttest_ind\n",
    "\n",
    "scen1=df.query(\"scenario=='scenario1'\")[\"cum_reward\"]\n",
    "scen2=df.query(\"scenario=='scenario2'\")[\"cum_reward\"]\n",
    "scen3=df.query(\"scenario=='scenario3'\")[\"cum_reward\"]\n",
    "print(ttest_ind(scen1, scen3,equal_var=False))\n",
    "print(ttest_ind(scen1, scen2,equal_var=False))\n",
    "print(ttest_ind(scen3, scen2,equal_var=False))"
   ]
  },
  {
   "cell_type": "code",
   "execution_count": null,
   "id": "9aa67d88-2b68-4003-be29-79f781f67225",
   "metadata": {},
   "outputs": [],
   "source": [
    "act1=df.query(\"action_wrapper=='ActionSpaceOption1Wrapper'\")[\"cum_reward\"]\n",
    "act2=df.query(\"action_wrapper=='ActionSpaceOption2Wrapper'\")[\"cum_reward\"]\n",
    "act3=df.query(\"action_wrapper=='ActionSpaceOption3Wrapper'\")[\"cum_reward\"]\n",
    "print(ttest_ind(act1, act2,equal_var=False))\n",
    "print(ttest_ind(act1, act3,equal_var=False))\n",
    "print(ttest_ind(act2, act3,equal_var=False))\n"
   ]
  },
  {
   "cell_type": "code",
   "execution_count": null,
   "id": "3d3e60fe-8008-4208-83e0-aaa3a912b1aa",
   "metadata": {},
   "outputs": [],
   "source": [
    "# TODO Use Anova\n",
    "act1=df.query(\"alg=='ActionSpaceOption1Wrapper'\")[\"cum_reward\"]\n",
    "act2=df.query(\"alg=='ActionSpaceOption2Wrapper'\")[\"cum_reward\"]\n",
    "act3=df.query(\"alg=='ActionSpaceOption3Wrapper'\")[\"cum_reward\"]\n",
    "act4=df.query(\"alg=='ActionSpaceOption3Wrapper'\")[\"cum_reward\"]\n",
    "print(ttest_ind(act1, act2,equal_var=False))\n",
    "print(ttest_ind(act1, act3,equal_var=False))\n",
    "print(ttest_ind(act2, act3,equal_var=False))"
   ]
  },
  {
   "cell_type": "code",
   "execution_count": null,
   "id": "830281a7-f403-4df8-a9ba-853bedbce65e",
   "metadata": {},
   "outputs": [],
   "source": [
    "df.action_wrapper.sort_values()"
   ]
  },
  {
   "cell_type": "code",
   "execution_count": null,
   "id": "d3ac805d-27e4-4e1b-9908-864df248f9e0",
   "metadata": {},
   "outputs": [],
   "source": [
    "paths_that_fulfil_condition_wo_automation = statistics_wo.query(\n",
    "    \"return_max>200 and return_std<15 and timesteps_min==250 \"\n",
    ")\n",
    "len(paths_that_fulfil_condition_wo_automation)"
   ]
  },
  {
   "cell_type": "code",
   "execution_count": null,
   "id": "dc8f5eff-29f4-4757-a7aa-5533a9d75bd6",
   "metadata": {},
   "outputs": [],
   "source": [
    "paths_that_fulfil_condition_w_automation = statistics_w.query(\"return_max>200 and return_std<15 and timesteps_min==250\")\n",
    "len(paths_that_fulfil_condition_w_automation)"
   ]
  },
  {
   "cell_type": "code",
   "execution_count": null,
   "id": "5eb4cb92-6dd4-40c3-aff1-6783095815bb",
   "metadata": {},
   "outputs": [],
   "source": [
    "from src.main.rl.evaluation.plots.phase2_plots import create_multi_object_plot, create_phase_2_counts_plots\n",
    "\n",
    "fig = create_phase_2_counts_plots(\n",
    "    paths_that_fulfil_condition_wo_automation.merge(paths_that_fulfil_condition_w_automation, how=\"outer\")\n",
    ")\n",
    "fig.savefig(\n",
    "    f\"src/main/rl/evaluation/plot_results/phase2_count_plots.png\",\n",
    "    format=\"png\",\n",
    "    dpi=300,\n",
    ")"
   ]
  },
  {
   "cell_type": "code",
   "execution_count": null,
   "id": "7ae881fb-90b3-4260-afc0-9a680c349d9e",
   "metadata": {},
   "outputs": [],
   "source": []
  },
  {
   "cell_type": "code",
   "execution_count": null,
   "id": "0b9a69fa-745c-4812-9db4-722e8d14e7a5",
   "metadata": {},
   "outputs": [],
   "source": [
    "highest_return_wo_automation = df_wo_automation.query(\"cum_reward == cum_reward.max()\")\n",
    "print(highest_return_wo_automation[[\"cum_reward\",\"combination\"]])\n",
    "highest_return_w_automation = df_w_automation.query(\"cum_reward == cum_reward.max()\")\n",
    "print(highest_return_w_automation[[\"cum_reward\",\"combination\"]])"
   ]
  },
  {
   "cell_type": "code",
   "execution_count": null,
   "id": "ba57cca8-a930-41a4-8efa-47ab7db7a045",
   "metadata": {},
   "outputs": [],
   "source": [
    "cols_to_count = [\"alg\", \"scenario\", \"action_wrapper\", \"obs_wrapper\", \"automation_wrapper\"]\n",
    "statistics_wo_value_counts = pd.Series()\n",
    "statistics_w_value_counts = pd.Series()\n",
    "for col in cols_to_count:\n",
    "    statistics_wo_value_counts = pd.concat(\n",
    "        [statistics_wo_value_counts, paths_that_fulfil_condition_wo_automation[col].value_counts()]\n",
    "    )\n",
    "    statistics_w_value_counts = pd.concat(\n",
    "        [statistics_w_value_counts, paths_that_fulfil_condition_w_automation[col].value_counts()]\n",
    "    )\n",
    "print(statistics_wo_value_counts)\n",
    "print(statistics_w_value_counts)"
   ]
  },
  {
   "cell_type": "code",
   "execution_count": null,
   "id": "77eddeeb-5462-4306-9fed-c149654ab37d",
   "metadata": {},
   "outputs": [],
   "source": [
    "wo_automation_scenario1_action_space3 = paths_that_fulfil_condition_wo_automation.query(\n",
    "    \"scenario=='scenario1' and action_wrapper=='ActionSpaceOption3Wrapper' and timesteps_min==250\"\n",
    ")\n",
    "wo_automation_scenario2_action_space3 = paths_that_fulfil_condition_wo_automation.query(\n",
    "    \"scenario=='scenario2' and action_wrapper=='ActionSpaceOption3Wrapper' and timesteps_min==250\"\n",
    ")\n",
    "wo_automation_scenario3_action_space3 = paths_that_fulfil_condition_wo_automation.query(\n",
    "    \"scenario=='scenario3' and action_wrapper=='ActionSpaceOption3Wrapper' and timesteps_min==250\"\n",
    ")\n",
    "w_automation_scenario1_action_space3 = paths_that_fulfil_condition_w_automation.query(\n",
    "    \"scenario=='scenario1' and action_wrapper=='ActionSpaceOption3Wrapper' and timesteps_min==250\"\n",
    ")\n",
    "w_automation_scenario2_action_space3 = paths_that_fulfil_condition_w_automation.query(\n",
    "    \"scenario=='scenario2' and action_wrapper=='ActionSpaceOption3Wrapper' and timesteps_min==250\"\n",
    ")\n",
    "w_automation_scenario3_action_space3 = paths_that_fulfil_condition_w_automation.query(\n",
    "    \"scenario=='scenario3' and action_wrapper=='ActionSpaceOption3Wrapper' and timesteps_min==250\"\n",
    ")\n",
    "print(\n",
    "    f\"Only ActionSpace3 and scenario1 without automation:\\n {wo_automation_scenario1_action_space3[['return_max', 'return_mean']]}\"\n",
    ")\n",
    "print(\n",
    "    f\"Only ActionSpace3 and scenario2 without automation:\\n {wo_automation_scenario2_action_space3[['return_max', 'return_mean']]}\"\n",
    ")\n",
    "print(\n",
    "    f\"Only ActionSpace3 and scenario3 without automation:\\n {wo_automation_scenario3_action_space3[['return_max', 'return_mean']]}\"\n",
    ")\n",
    "print(\n",
    "    f\"Only ActionSpace3 and scenario1 with automation:\\n {w_automation_scenario1_action_space3[['return_max', 'return_mean', ]]}\"\n",
    ")\n",
    "print(\n",
    "    f\"Only ActionSpace3 and scenario2 with automation:\\n {w_automation_scenario2_action_space3[['return_max', 'return_mean', ]]}\"\n",
    ")\n",
    "print(\n",
    "    f\"Only ActionSpace3 and scenario3 with automation:\\n {w_automation_scenario3_action_space3[['return_max', 'return_mean', ]]}\"\n",
    ")"
   ]
  },
  {
   "cell_type": "code",
   "execution_count": null,
   "id": "17400b57-c3ff-4185-9fcc-ad9c612daa46",
   "metadata": {},
   "outputs": [],
   "source": []
  },
  {
   "cell_type": "code",
   "execution_count": null,
   "id": "817523ee-8f3d-4cf0-a707-ee9983f0d438",
   "metadata": {},
   "outputs": [],
   "source": []
  },
  {
   "cell_type": "code",
   "execution_count": null,
   "id": "8cd0771b-57c0-4150-973a-e160e8c32fa6",
   "metadata": {},
   "outputs": [],
   "source": []
  }
 ],
 "metadata": {
  "kernelspec": {
   "display_name": "Python 3 (ipykernel)",
   "language": "python",
   "name": "python3"
  },
  "language_info": {
   "codemirror_mode": {
    "name": "ipython",
    "version": 3
   },
   "file_extension": ".py",
   "mimetype": "text/x-python",
   "name": "python",
   "nbconvert_exporter": "python",
   "pygments_lexer": "ipython3",
   "version": "3.8.8"
  }
 },
 "nbformat": 4,
 "nbformat_minor": 5
}
