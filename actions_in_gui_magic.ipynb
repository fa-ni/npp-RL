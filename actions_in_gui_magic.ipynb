{
 "cells": [
  {
   "cell_type": "code",
   "execution_count": null,
   "id": "52ccb127-2640-4bba-bf5e-f66ac54e0304",
   "metadata": {},
   "outputs": [],
   "source": [
    "# Let the magic happen!\n",
    "# This notebook starts the jar file (JAVA required) and starts the GUI with it.\n",
    "# The trained agents (which you can choose via the path var) is executing the learned actions\n",
    "# over the java GUI.\n",
    "# CAREFULL: Make sure you let it run till the end, otherwise jupyter lab might crash and you will need to restart."
   ]
  },
  {
   "cell_type": "code",
   "execution_count": null,
   "id": "18a8687c-780a-487b-b7d8-5d5fe0e1b439",
   "metadata": {},
   "outputs": [],
   "source": [
    "from src.main.rl.evaluation.eval_frontend import eval_frontend\n",
    "from src.main.rl.utils.combined_parser import parse_information_from_path\n",
    "\n",
    "paths = [\n",
    "    \"src/main/rl/models/scenario1/training_04_06/scenario1_ActionSpaceOption3Wrapper_ObservationOption4Wrapper_None_RewardOption2Wrapper_TD3_training_04_06\",\n",
    "    \"src/main/rl/models/scenario1/training_04_06/scenario1_ActionSpaceOption3Wrapper_ObservationOption5Wrapper_NPPAutomationWrapper_RewardOption2Wrapper_SAC_training_04_06\",\n",
    "    \"src/main/rl/models/scenario2/training_04_06/scenario2_ActionSpaceOption3Wrapper_ObservationOption5Wrapper_None_RewardOption2Wrapper_PPO_training_04_06\",\n",
    "    \"src/main/rl/models/scenario2/training_04_06/scenario2_ActionSpaceOption3Wrapper_ObservationOption4Wrapper_NPPAutomationWrapper_RewardOption2Wrapper_PPO_training_04_06\",\n",
    "    \"src/main/rl/models/scenario3/training_04_06/scenario3_ActionSpaceOption3Wrapper_ObservationOption5Wrapper_None_RewardOption2Wrapper_PPO_training_04_06\",\n",
    "    \"src/main/rl/models/scenario3/training_04_06/scenario3_ActionSpaceOption3Wrapper_ObservationOption3Wrapper_NPPAutomationWrapper_RewardOption2Wrapper_PPO_training_04_06\",\n",
    "]\n",
    "# Choose model\n",
    "path = paths[0] + \"_1/best_model.zip\"\n",
    "scenario, alg, wrapper_maker = parse_information_from_path(path)\n",
    "eval_frontend(scenario, path, alg, wrapper_maker)"
   ]
  }
 ],
 "metadata": {
  "kernelspec": {
   "display_name": "Python 3 (ipykernel)",
   "language": "python",
   "name": "python3"
  },
  "language_info": {
   "codemirror_mode": {
    "name": "ipython",
    "version": 3
   },
   "file_extension": ".py",
   "mimetype": "text/x-python",
   "name": "python",
   "nbconvert_exporter": "python",
   "pygments_lexer": "ipython3",
   "version": "3.8.8"
  }
 },
 "nbformat": 4,
 "nbformat_minor": 5
}
