{
 "cells": [
  {
   "cell_type": "code",
   "execution_count": null,
   "id": "8486e53b",
   "metadata": {},
   "outputs": [],
   "source": [
    "# This notebook is used to analyze the fifth combination."
   ]
  },
  {
   "cell_type": "code",
   "execution_count": null,
   "id": "5883da0e",
   "metadata": {},
   "outputs": [],
   "source": [
    "import pandas as pd\n",
    "\n",
    "from src.main.rl.evaluation.plots.phase3_plots import (\n",
    "    prepare_one_combination_actions_and_obs_for_analysis,\n",
    ")\n",
    "\n",
    "paths_best_models = [\n",
    "    \"src/main/rl/models/scenario1/training_04_06/scenario1_ActionSpaceOption3Wrapper_ObservationOption4Wrapper_None_RewardOption2Wrapper_TD3_training_04_06\",\n",
    "    \"src/main/rl/models/scenario1/training_04_06/scenario1_ActionSpaceOption3Wrapper_ObservationOption5Wrapper_NPPAutomationWrapper_RewardOption2Wrapper_SAC_training_04_06\",\n",
    "    \"src/main/rl/models/scenario2/training_04_06/scenario2_ActionSpaceOption3Wrapper_ObservationOption5Wrapper_None_RewardOption2Wrapper_PPO_training_04_06\",\n",
    "    \"src/main/rl/models/scenario2/training_04_06/scenario2_ActionSpaceOption3Wrapper_ObservationOption4Wrapper_NPPAutomationWrapper_RewardOption2Wrapper_PPO_training_04_06\",\n",
    "    \"src/main/rl/models/scenario3/training_04_06/scenario3_ActionSpaceOption3Wrapper_ObservationOption5Wrapper_None_RewardOption2Wrapper_PPO_training_04_06\",\n",
    "    \"src/main/rl/models/scenario3/training_04_06/scenario3_ActionSpaceOption3Wrapper_ObservationOption3Wrapper_NPPAutomationWrapper_RewardOption2Wrapper_PPO_training_04_06\",\n",
    "]\n",
    "\n",
    "path = paths_best_models[4]\n",
    "(\n",
    "    actions_prepared,\n",
    "    obs_prepared,\n",
    "    list_of_all_actions_taken,\n",
    "    list_of_all_obs_taken,\n",
    ") = prepare_one_combination_actions_and_obs_for_analysis(path, obs_dimensions=11)"
   ]
  },
  {
   "cell_type": "code",
   "execution_count": null,
   "id": "e262ca72-ff04-439f-a9e9-e6c306eb0ca6",
   "metadata": {},
   "outputs": [],
   "source": [
    "# Actions Analysis Combi 1\n",
    "import matplotlib.pyplot as plt\n",
    "import matplotlib.ticker as plticker\n",
    "from src.main.rl.utils.constants import color_mapping\n",
    "from src.main.rl.utils.constants import (\n",
    "    action_dimensions_german,\n",
    "    obs_scaling_factors,\n",
    "    obs_dimensions_german,\n",
    "    scaling_factors_scenario_3,\n",
    ")\n",
    "\n",
    "for idx, item in enumerate(actions_prepared):\n",
    "    # apply scaling factors as actions are also scaled\n",
    "    item = item.applymap(lambda x: scaling_factors_scenario_3[idx][x])\n",
    "    # get min, max, mean to plot\n",
    "    actions_prepared[idx] = item.agg([\"mean\", \"min\", \"max\", \"std\"], axis=1)"
   ]
  },
  {
   "cell_type": "code",
   "execution_count": null,
   "id": "c304cc0d-69da-41fa-9557-19cb0107ca8e",
   "metadata": {},
   "outputs": [],
   "source": [
    "# Actions Analysis Combi 1\n",
    "# Dark blue line is the mean of the 10 models per timestep and the light blue shaded color ist the min/max at this point in time of the ten models\n",
    "from src.main.rl.utils.constants import (\n",
    "    scaling_factors_scenario_3,\n",
    "    action_dimensions_german,\n",
    ")\n",
    "\n",
    "fig, ax = plt.subplots(1, 5, constrained_layout=True)\n",
    "fig.set_figheight(3)\n",
    "fig.set_figwidth(20)\n",
    "[\n",
    "    ax[idx].plot(item[\"mean\"], color=color_mapping[\"standard\"])\n",
    "    for idx, item in enumerate(actions_prepared)\n",
    "]\n",
    "[\n",
    "    ax[idx].fill_between(\n",
    "        [i for i in range(251)],\n",
    "        item[\"min\"],\n",
    "        item[\"max\"],\n",
    "        color=color_mapping[\"standard\"],\n",
    "        alpha=0.3,\n",
    "    )\n",
    "    for idx, item in enumerate(actions_prepared)\n",
    "]\n",
    "[ax[idx].set_xlabel(\"Zeitschritte\") for idx in range(5)]\n",
    "[ax[idx].set_ylabel(\"Wert\") for idx in range(5)]\n",
    "[ax[idx].set_title(action_dimensions_german[idx]) for idx in range(5)]\n",
    "plt.show()"
   ]
  },
  {
   "cell_type": "code",
   "execution_count": null,
   "id": "fe17bc9f-12a4-4db0-9562-b9929216c252",
   "metadata": {},
   "outputs": [],
   "source": [
    "# Action: Combi 1 model 10\n",
    "from src.main.rl.evaluation.plots.phase3_plots import plot_actions_taken\n",
    "\n",
    "scenario = \"scenario3\"\n",
    "y_axis_scale = [[-11, 11], [-330, 330], [0, 1.2], [0, 1.2], [-330, 330]]\n",
    "fig, ax = plot_actions_taken(list_of_all_actions_taken[9], scenario, y_axis_scale)"
   ]
  },
  {
   "cell_type": "code",
   "execution_count": null,
   "id": "23691043-e962-42da-adbd-6e98d1e931d3",
   "metadata": {},
   "outputs": [],
   "source": [
    "# Actions print all models from combi 1\n",
    "from src.main.rl.evaluation.plots.phase3_plots import plot_actions_taken\n",
    "\n",
    "y_axis_scale = [[-11, 11], [-330, 330], [0, 1.2], [0, 1.2], [-330, 330]]\n",
    "for idx, actions_taken in enumerate(list_of_all_actions_taken):\n",
    "    print(f\"model {idx}\")\n",
    "    plot_actions_taken(actions_taken, scenario, y_axis_scale)"
   ]
  },
  {
   "cell_type": "code",
   "execution_count": null,
   "id": "f3752d53-d8f6-4055-8fe7-b67a81c2f436",
   "metadata": {},
   "outputs": [],
   "source": [
    "# Observation prep\n",
    "import matplotlib.pyplot as plt\n",
    "import matplotlib.ticker as plticker\n",
    "from src.main.rl.utils.constants import (\n",
    "    scaling_factors_scenario_1,\n",
    "    scaling_factors_scenario_2,\n",
    "    action_dimensions_german,\n",
    "    obs_dimensions_german,\n",
    "    obs_scaling_factors,\n",
    "    obs_dimensions,\n",
    "    scaling_factors_scenario_3,\n",
    ")\n",
    "\n",
    "obs_space_size = 11\n",
    "\n",
    "current_obs_scaling_factors = obs_scaling_factors[obs_space_size]\n",
    "\n",
    "agg_result_list_obs = [pd.DataFrame() for _ in range(11)]\n",
    "for idx, item in enumerate(obs_prepared):\n",
    "    item = item.fillna(0)\n",
    "    # observations need to be rescaled\n",
    "    item = item.applymap(\n",
    "        lambda x: int(round((x + 1) * (current_obs_scaling_factors[idx] / 2)))\n",
    "    )\n",
    "    agg_result_list_obs[idx] = item.agg([\"mean\", \"min\", \"max\", \"std\"], axis=1)\n",
    "    agg_result_list_obs[idx][\"minus\"] = (\n",
    "        agg_result_list_obs[idx][\"mean\"] - agg_result_list_obs[idx][\"std\"]\n",
    "    )\n",
    "    agg_result_list_obs[idx][\"plus\"] = (\n",
    "        agg_result_list_obs[idx][\"mean\"] + agg_result_list_obs[idx][\"std\"]\n",
    "    )"
   ]
  },
  {
   "cell_type": "code",
   "execution_count": null,
   "id": "a51e90ca-3d03-4de9-afb5-8ceb46ea09a6",
   "metadata": {},
   "outputs": [],
   "source": [
    "# Obs: Print specific models\n",
    "from src.main.rl.evaluation.plots.phase3_plots import plot_observations\n",
    "\n",
    "y_axis_scale = [\n",
    "    [0, 1100],\n",
    "    [0, 4200],\n",
    "    [0, 570],\n",
    "    [0, 6000],\n",
    "    [0, 198],\n",
    "    [0, 2100],\n",
    "    [0, 110],\n",
    "    [0, 2100],\n",
    "    [0, 1.2],\n",
    "    [0, 1.2],\n",
    "    [0, 32],\n",
    "]\n",
    "for item in list_of_all_obs_taken:\n",
    "    fig = plot_observations(item, y_axis_scale)"
   ]
  }
 ],
 "metadata": {
  "kernelspec": {
   "display_name": "Python 3 (ipykernel)",
   "language": "python",
   "name": "python3"
  },
  "language_info": {
   "codemirror_mode": {
    "name": "ipython",
    "version": 3
   },
   "file_extension": ".py",
   "mimetype": "text/x-python",
   "name": "python",
   "nbconvert_exporter": "python",
   "pygments_lexer": "ipython3",
   "version": "3.8.10"
  }
 },
 "nbformat": 4,
 "nbformat_minor": 5
}
